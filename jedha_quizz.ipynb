{
 "cells": [
  {
   "cell_type": "code",
   "execution_count": 9,
   "metadata": {},
   "outputs": [],
   "source": [
    "class quizz():\n",
    "    def __init__(self):\n",
    "        self.nb_de_chances= 3\n",
    "        \n",
    "    def question(self, question, response):\n",
    "        if self.nb_de_chances > 0:\n",
    "            question_asked = input(question)\n",
    "            while question_asked.lower() != response:\n",
    "                self.nb_de_chances -= 1\n",
    "                print(\"Dommage ! Il te reste {} chances\".format(self.nb_de_chances))\n",
    "                if self.nb_de_chances == 0:\n",
    "                    print(\"Oh non ! Tu as perdu le jeu ...\")\n",
    "                    break\n",
    "                question_asked = input(question)\n"
   ]
  },
  {
   "cell_type": "code",
   "execution_count": 10,
   "metadata": {},
   "outputs": [],
   "source": [
    "quizztime = quizz()"
   ]
  },
  {
   "cell_type": "code",
   "execution_count": 11,
   "metadata": {},
   "outputs": [
    {
     "name": "stdout",
     "output_type": "stream",
     "text": [
      "Dommage ! Il te reste 2 chances\n",
      "Dommage ! Il te reste 1 chances\n",
      "Dommage ! Il te reste 0 chances\n",
      "Oh non ! Tu as perdu le jeu ...\n"
     ]
    }
   ],
   "source": [
    "quizztime.question (\"Quelle est ma couleur favorite ? \", \"bleu\")\n",
    "quizztime.question (\"Quelle est la capitale de France? \", \"Paris\")\n",
    "quizztime.question(\"Quelle est mon année de naissance ?\", \"1995\")"
   ]
  }
 ],
 "metadata": {
  "kernelspec": {
   "display_name": "base",
   "language": "python",
   "name": "python3"
  },
  "language_info": {
   "codemirror_mode": {
    "name": "ipython",
    "version": 3
   },
   "file_extension": ".py",
   "mimetype": "text/x-python",
   "name": "python",
   "nbconvert_exporter": "python",
   "pygments_lexer": "ipython3",
   "version": "3.11.7"
  }
 },
 "nbformat": 4,
 "nbformat_minor": 2
}
